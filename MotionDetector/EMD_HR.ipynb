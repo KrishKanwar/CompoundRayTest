{
 "cells": [
  {
   "cell_type": "markdown",
   "metadata": {},
   "source": [
    "## HR detector on the output from compoundRay"
   ]
  },
  {
   "cell_type": "markdown",
   "metadata": {},
   "source": [
    "- The ommatidia data contains the lens positions, ommatidia directions, and acceptance angles. The hexagonal coordinates detemines the neighboring relationship of the ommatidia. (see \"hex_coordinates.ipynb\")\n",
    "\n",
    "- Input data from compoundRay is a time sequence of vectors. Each vector contains the averaged values of all ommatidia. The order of the vector corresponds to the order of the ommatidia data. \n",
    "\n",
    "- The main idea is to compare neighboring ommatidia values at consecutive time point to compute motion. The time delay can be modeled as a low pass filter (see \"lowpass_eg.ipynb\"). So one way (what we will do here) to do this is to low-pass filter the ommatidia values (add time delay), and then compare (multiple) with adjacent ommatidium values (no filter). Another way is to compare values from different times. \n",
    "\n",
    "\n",
    "1. First apply a low-pass filter to single-ommatidia values \n",
    "\n",
    "2. Compare filtered values to original ones from adjacent ommatidia. This is doen separately in all 6 directions (see \"grid_nb.ipynb\"). This is essentially HR detector. \n",
    "\n",
    "3. Low-pass filter the output again to make it smooth. \n",
    "\n",
    "4. Note that left and right eyes shold be done separately, therefore need separate compoundRay simulations.\n"
   ]
  },
  {
   "cell_type": "code",
   "execution_count": 2,
   "metadata": {},
   "outputs": [],
   "source": [
    "import numpy as np\n",
    "from cmath import pi"
   ]
  },
  {
   "cell_type": "markdown",
   "metadata": {},
   "source": [
    "### parameters following Michael's \"JEB2013 sims\" code\n",
    "\n",
    "Assume fly speed is 23 cm/s.\n",
    "\n",
    "distance step size = 0.05 cm\n",
    "\n",
    "time step size = 0.05/23 s\n",
    "\n",
    "Low pass filter for ommatidium = 30 ms\n",
    "\n",
    "Low pass filter for output signal = 0.2 s\n",
    "\n",
    "Low pass filter for ommatidium (RC time): tau_HR = 30 ms = $\\tau_{HR}$  \n",
    "$A_{i} = 1 - \\frac{2 \\tau_{HR}}{T}$  \n",
    "$B_{i} = 1 + \\frac{2 \\tau_{HR}}{T}$  \n",
    "\n",
    "Low pass filter for output signal (RC time): tau_out = 0.2 s = $\\tau_{out}$  \n",
    "$A_{o} = 1 - \\frac{2 \\tau_{out}}{T}$  \n",
    "$B_{o} = 1 + \\frac{2 \\tau_{out}}{T}$  \n",
    "\n",
    "Let $u(t)$ be the input (raw ommatidia value) at time t, and $y(t)$ be the output (after lowpass filter) at time t. Then  \n",
    "$y(t) = \\frac{u(t) + u(t-1) - A y(t-1)}{B}$\n",
    "\n",
    "Now we compare the adjacent values before and after the low-pass filter (time delay) compute motion signal $M_{HR}$:  \n",
    "$M_{HR} = y(t, x0) \\times u(t, x1) - y(t, x1) \\times u(t, x1)$"
   ]
  },
  {
   "cell_type": "code",
   "execution_count": null,
   "metadata": {},
   "outputs": [],
   "source": []
  }
 ],
 "metadata": {
  "kernelspec": {
   "display_name": "ol-connectome",
   "language": "python",
   "name": "python3"
  },
  "language_info": {
   "codemirror_mode": {
    "name": "ipython",
    "version": 3
   },
   "file_extension": ".py",
   "mimetype": "text/x-python",
   "name": "python",
   "nbconvert_exporter": "python",
   "pygments_lexer": "ipython3",
   "version": "3.10.5"
  },
  "orig_nbformat": 4
 },
 "nbformat": 4,
 "nbformat_minor": 2
}
